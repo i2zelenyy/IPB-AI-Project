{
 "cells": [
  {
   "cell_type": "markdown",
   "id": "39936331",
   "metadata": {},
   "source": [
    "# Library and data upload"
   ]
  },
  {
   "cell_type": "code",
   "execution_count": 183,
   "id": "7abf14e7",
   "metadata": {},
   "outputs": [],
   "source": [
    "import numpy as np\n",
    "import pandas as pd\n",
    "import seaborn as sns\n",
    "from matplotlib import pyplot as plt"
   ]
  },
  {
   "cell_type": "code",
   "execution_count": 184,
   "id": "d35c5862",
   "metadata": {},
   "outputs": [],
   "source": [
    "# Reading the classified dataset into a pandas dataframe\n",
    "data = pd.read_csv(\"dataset.csv\")\n",
    "data.columns = [\"id\", \"temperature\", \"humidity_relative\", \"light\", \"CO2\", \"humidity_absolute\", \"occupied\"]\n",
    "\n",
    "new_data = pd.read_csv(\"dataset_naoclassificado.csv\")\n",
    "new_data.columns = [\"id\", \"temperature\", \"humidity_relative\", \"light\", \"CO2\", \"humidity_absolute\"]"
   ]
  },
  {
   "cell_type": "code",
   "execution_count": 185,
   "id": "8affd929",
   "metadata": {},
   "outputs": [
    {
     "data": {
      "text/plain": [
       "(14000, 7)"
      ]
     },
     "execution_count": 185,
     "metadata": {},
     "output_type": "execute_result"
    }
   ],
   "source": [
    "data.shape"
   ]
  },
  {
   "cell_type": "markdown",
   "id": "5c935414",
   "metadata": {},
   "source": [
    "# Data cleansing"
   ]
  },
  {
   "cell_type": "code",
   "execution_count": 186,
   "id": "f3924243",
   "metadata": {},
   "outputs": [
    {
     "name": "stdout",
     "output_type": "stream",
     "text": [
      "<class 'pandas.core.frame.DataFrame'>\n",
      "RangeIndex: 14000 entries, 0 to 13999\n",
      "Data columns (total 7 columns):\n",
      " #   Column             Non-Null Count  Dtype  \n",
      "---  ------             --------------  -----  \n",
      " 0   id                 14000 non-null  int64  \n",
      " 1   temperature        13998 non-null  float64\n",
      " 2   humidity_relative  13999 non-null  float64\n",
      " 3   light              13995 non-null  float64\n",
      " 4   CO2                13999 non-null  float64\n",
      " 5   humidity_absolute  13999 non-null  float64\n",
      " 6   occupied           13999 non-null  float64\n",
      "dtypes: float64(6), int64(1)\n",
      "memory usage: 765.8 KB\n",
      "None\n",
      "\n",
      "\n",
      "\n",
      "<class 'pandas.core.frame.DataFrame'>\n",
      "RangeIndex: 5560 entries, 0 to 5559\n",
      "Data columns (total 6 columns):\n",
      " #   Column             Non-Null Count  Dtype  \n",
      "---  ------             --------------  -----  \n",
      " 0   id                 5560 non-null   int64  \n",
      " 1   temperature        5560 non-null   float64\n",
      " 2   humidity_relative  5560 non-null   float64\n",
      " 3   light              5560 non-null   float64\n",
      " 4   CO2                5560 non-null   float64\n",
      " 5   humidity_absolute  5560 non-null   float64\n",
      "dtypes: float64(5), int64(1)\n",
      "memory usage: 260.8 KB\n",
      "None\n"
     ]
    }
   ],
   "source": [
    "print(data.info(verbose=True)) # There are some Null-Values\n",
    "print(\"\\n\\n\")\n",
    "print(new_data.info(verbose=True)) # There are no Null-Values"
   ]
  },
  {
   "cell_type": "code",
   "execution_count": 187,
   "id": "33cab8fe",
   "metadata": {},
   "outputs": [
    {
     "data": {
      "text/plain": [
       "id                   0\n",
       "temperature          2\n",
       "humidity_relative    1\n",
       "light                5\n",
       "CO2                  1\n",
       "humidity_absolute    1\n",
       "occupied             1\n",
       "dtype: int64"
      ]
     },
     "execution_count": 187,
     "metadata": {},
     "output_type": "execute_result"
    }
   ],
   "source": [
    "# Exact amount of nulls by columns\n",
    "\n",
    "data.isnull().sum() "
   ]
  },
  {
   "cell_type": "code",
   "execution_count": 188,
   "id": "615d6706",
   "metadata": {},
   "outputs": [
    {
     "data": {
      "text/plain": [
       "id                   0\n",
       "temperature          0\n",
       "humidity_relative    0\n",
       "light                0\n",
       "CO2                  0\n",
       "humidity_absolute    0\n",
       "occupied             0\n",
       "dtype: int64"
      ]
     },
     "execution_count": 188,
     "metadata": {},
     "output_type": "execute_result"
    }
   ],
   "source": [
    "# Dropping the rows with NaNs and duplicate values (if there is any)\n",
    "\n",
    "data = data.dropna().drop_duplicates().reset_index(drop = True)\n",
    "data.isnull().sum()"
   ]
  },
  {
   "cell_type": "code",
   "execution_count": 189,
   "id": "c1280e3b",
   "metadata": {},
   "outputs": [
    {
     "data": {
      "text/plain": [
       "(13993, 7)"
      ]
     },
     "execution_count": 189,
     "metadata": {},
     "output_type": "execute_result"
    }
   ],
   "source": [
    "data.shape"
   ]
  },
  {
   "cell_type": "code",
   "execution_count": 190,
   "id": "ac720729",
   "metadata": {},
   "outputs": [
    {
     "data": {
      "text/html": [
       "<div>\n",
       "<style scoped>\n",
       "    .dataframe tbody tr th:only-of-type {\n",
       "        vertical-align: middle;\n",
       "    }\n",
       "\n",
       "    .dataframe tbody tr th {\n",
       "        vertical-align: top;\n",
       "    }\n",
       "\n",
       "    .dataframe thead th {\n",
       "        text-align: right;\n",
       "    }\n",
       "</style>\n",
       "<table border=\"1\" class=\"dataframe\">\n",
       "  <thead>\n",
       "    <tr style=\"text-align: right;\">\n",
       "      <th></th>\n",
       "      <th>id</th>\n",
       "      <th>temperature</th>\n",
       "      <th>humidity_relative</th>\n",
       "      <th>light</th>\n",
       "      <th>CO2</th>\n",
       "      <th>humidity_absolute</th>\n",
       "      <th>occupied</th>\n",
       "    </tr>\n",
       "  </thead>\n",
       "  <tbody>\n",
       "    <tr>\n",
       "      <th>count</th>\n",
       "      <td>13993.000000</td>\n",
       "      <td>13993.000000</td>\n",
       "      <td>13993.000000</td>\n",
       "      <td>13993.000000</td>\n",
       "      <td>13993.000000</td>\n",
       "      <td>13993.000000</td>\n",
       "      <td>13993.000000</td>\n",
       "    </tr>\n",
       "    <tr>\n",
       "      <th>mean</th>\n",
       "      <td>7000.007432</td>\n",
       "      <td>20.906860</td>\n",
       "      <td>27.647950</td>\n",
       "      <td>164.726855</td>\n",
       "      <td>691.520515</td>\n",
       "      <td>0.004230</td>\n",
       "      <td>0.231330</td>\n",
       "    </tr>\n",
       "    <tr>\n",
       "      <th>std</th>\n",
       "      <td>4041.570897</td>\n",
       "      <td>1.163183</td>\n",
       "      <td>5.035528</td>\n",
       "      <td>312.048458</td>\n",
       "      <td>312.844367</td>\n",
       "      <td>0.000792</td>\n",
       "      <td>0.421698</td>\n",
       "    </tr>\n",
       "    <tr>\n",
       "      <th>min</th>\n",
       "      <td>1.000000</td>\n",
       "      <td>18.290688</td>\n",
       "      <td>15.697419</td>\n",
       "      <td>0.000000</td>\n",
       "      <td>381.009316</td>\n",
       "      <td>0.002354</td>\n",
       "      <td>0.000000</td>\n",
       "    </tr>\n",
       "    <tr>\n",
       "      <th>25%</th>\n",
       "      <td>3500.000000</td>\n",
       "      <td>20.081581</td>\n",
       "      <td>24.286458</td>\n",
       "      <td>0.000000</td>\n",
       "      <td>468.310676</td>\n",
       "      <td>0.003678</td>\n",
       "      <td>0.000000</td>\n",
       "    </tr>\n",
       "    <tr>\n",
       "      <th>50%</th>\n",
       "      <td>7000.000000</td>\n",
       "      <td>20.771422</td>\n",
       "      <td>27.434572</td>\n",
       "      <td>87.726472</td>\n",
       "      <td>563.427773</td>\n",
       "      <td>0.004264</td>\n",
       "      <td>0.000000</td>\n",
       "    </tr>\n",
       "    <tr>\n",
       "      <th>75%</th>\n",
       "      <td>10499.000000</td>\n",
       "      <td>21.582306</td>\n",
       "      <td>31.407818</td>\n",
       "      <td>249.273969</td>\n",
       "      <td>806.884272</td>\n",
       "      <td>0.004814</td>\n",
       "      <td>0.000000</td>\n",
       "    </tr>\n",
       "    <tr>\n",
       "      <th>max</th>\n",
       "      <td>14000.000000</td>\n",
       "      <td>25.126679</td>\n",
       "      <td>40.788658</td>\n",
       "      <td>26264.734900</td>\n",
       "      <td>2064.476737</td>\n",
       "      <td>0.006812</td>\n",
       "      <td>1.000000</td>\n",
       "    </tr>\n",
       "  </tbody>\n",
       "</table>\n",
       "</div>"
      ],
      "text/plain": [
       "                 id   temperature  humidity_relative         light  \\\n",
       "count  13993.000000  13993.000000       13993.000000  13993.000000   \n",
       "mean    7000.007432     20.906860          27.647950    164.726855   \n",
       "std     4041.570897      1.163183           5.035528    312.048458   \n",
       "min        1.000000     18.290688          15.697419      0.000000   \n",
       "25%     3500.000000     20.081581          24.286458      0.000000   \n",
       "50%     7000.000000     20.771422          27.434572     87.726472   \n",
       "75%    10499.000000     21.582306          31.407818    249.273969   \n",
       "max    14000.000000     25.126679          40.788658  26264.734900   \n",
       "\n",
       "                CO2  humidity_absolute      occupied  \n",
       "count  13993.000000       13993.000000  13993.000000  \n",
       "mean     691.520515           0.004230      0.231330  \n",
       "std      312.844367           0.000792      0.421698  \n",
       "min      381.009316           0.002354      0.000000  \n",
       "25%      468.310676           0.003678      0.000000  \n",
       "50%      563.427773           0.004264      0.000000  \n",
       "75%      806.884272           0.004814      0.000000  \n",
       "max     2064.476737           0.006812      1.000000  "
      ]
     },
     "execution_count": 190,
     "metadata": {},
     "output_type": "execute_result"
    }
   ],
   "source": [
    "data.describe()"
   ]
  },
  {
   "cell_type": "markdown",
   "id": "4d8b840f",
   "metadata": {},
   "source": [
    "# Data Analyzing\n"
   ]
  },
  {
   "cell_type": "code",
   "execution_count": 191,
   "id": "bd2c700b",
   "metadata": {},
   "outputs": [
    {
     "data": {
      "text/html": [
       "<div>\n",
       "<style scoped>\n",
       "    .dataframe tbody tr th:only-of-type {\n",
       "        vertical-align: middle;\n",
       "    }\n",
       "\n",
       "    .dataframe tbody tr th {\n",
       "        vertical-align: top;\n",
       "    }\n",
       "\n",
       "    .dataframe thead th {\n",
       "        text-align: right;\n",
       "    }\n",
       "</style>\n",
       "<table border=\"1\" class=\"dataframe\">\n",
       "  <thead>\n",
       "    <tr style=\"text-align: right;\">\n",
       "      <th></th>\n",
       "      <th>id</th>\n",
       "      <th>temperature</th>\n",
       "      <th>humidity_relative</th>\n",
       "      <th>light</th>\n",
       "      <th>CO2</th>\n",
       "      <th>humidity_absolute</th>\n",
       "      <th>occupied</th>\n",
       "    </tr>\n",
       "  </thead>\n",
       "  <tbody>\n",
       "    <tr>\n",
       "      <th>id</th>\n",
       "      <td>1.00</td>\n",
       "      <td>-0.00</td>\n",
       "      <td>-0.01</td>\n",
       "      <td>-0.01</td>\n",
       "      <td>-0.00</td>\n",
       "      <td>-0.01</td>\n",
       "      <td>0.00</td>\n",
       "    </tr>\n",
       "    <tr>\n",
       "      <th>temperature</th>\n",
       "      <td>-0.00</td>\n",
       "      <td>1.00</td>\n",
       "      <td>-0.13</td>\n",
       "      <td>0.28</td>\n",
       "      <td>0.40</td>\n",
       "      <td>0.19</td>\n",
       "      <td>0.51</td>\n",
       "    </tr>\n",
       "    <tr>\n",
       "      <th>humidity_relative</th>\n",
       "      <td>-0.01</td>\n",
       "      <td>-0.13</td>\n",
       "      <td>1.00</td>\n",
       "      <td>-0.01</td>\n",
       "      <td>0.30</td>\n",
       "      <td>0.89</td>\n",
       "      <td>0.06</td>\n",
       "    </tr>\n",
       "    <tr>\n",
       "      <th>light</th>\n",
       "      <td>-0.01</td>\n",
       "      <td>0.28</td>\n",
       "      <td>-0.01</td>\n",
       "      <td>1.00</td>\n",
       "      <td>0.19</td>\n",
       "      <td>0.09</td>\n",
       "      <td>0.40</td>\n",
       "    </tr>\n",
       "    <tr>\n",
       "      <th>CO2</th>\n",
       "      <td>-0.00</td>\n",
       "      <td>0.40</td>\n",
       "      <td>0.30</td>\n",
       "      <td>0.19</td>\n",
       "      <td>1.00</td>\n",
       "      <td>0.46</td>\n",
       "      <td>0.50</td>\n",
       "    </tr>\n",
       "    <tr>\n",
       "      <th>humidity_absolute</th>\n",
       "      <td>-0.01</td>\n",
       "      <td>0.19</td>\n",
       "      <td>0.89</td>\n",
       "      <td>0.09</td>\n",
       "      <td>0.46</td>\n",
       "      <td>1.00</td>\n",
       "      <td>0.26</td>\n",
       "    </tr>\n",
       "    <tr>\n",
       "      <th>occupied</th>\n",
       "      <td>0.00</td>\n",
       "      <td>0.51</td>\n",
       "      <td>0.06</td>\n",
       "      <td>0.40</td>\n",
       "      <td>0.50</td>\n",
       "      <td>0.26</td>\n",
       "      <td>1.00</td>\n",
       "    </tr>\n",
       "  </tbody>\n",
       "</table>\n",
       "</div>"
      ],
      "text/plain": [
       "                     id  temperature  humidity_relative  light   CO2  \\\n",
       "id                 1.00        -0.00              -0.01  -0.01 -0.00   \n",
       "temperature       -0.00         1.00              -0.13   0.28  0.40   \n",
       "humidity_relative -0.01        -0.13               1.00  -0.01  0.30   \n",
       "light             -0.01         0.28              -0.01   1.00  0.19   \n",
       "CO2               -0.00         0.40               0.30   0.19  1.00   \n",
       "humidity_absolute -0.01         0.19               0.89   0.09  0.46   \n",
       "occupied           0.00         0.51               0.06   0.40  0.50   \n",
       "\n",
       "                   humidity_absolute  occupied  \n",
       "id                             -0.01      0.00  \n",
       "temperature                     0.19      0.51  \n",
       "humidity_relative               0.89      0.06  \n",
       "light                           0.09      0.40  \n",
       "CO2                             0.46      0.50  \n",
       "humidity_absolute               1.00      0.26  \n",
       "occupied                        0.26      1.00  "
      ]
     },
     "execution_count": 191,
     "metadata": {},
     "output_type": "execute_result"
    }
   ],
   "source": [
    "# Calculating correlation matrix using .corr() method\n",
    "\n",
    "correlation_matrix = data.corr().round(2) \n",
    "correlation_matrix"
   ]
  },
  {
   "cell_type": "code",
   "execution_count": 192,
   "id": "4c21e71a",
   "metadata": {},
   "outputs": [
    {
     "data": {
      "image/png": "[encoded data removed]",
      "text/plain": [
       "<Figure size 792x504 with 2 Axes>"
      ]
     },
     "metadata": {},
     "output_type": "display_data"
    }
   ],
   "source": [
    "sns.heatmap(data=correlation_matrix , annot = True , cmap=\"Blues\", annot_kws={'fontweight': 'bold'},\n",
    "            linewidth =1,linecolor = 'black')\n",
    "sns.set(rc = {'figure.figsize':(11,7)})"
   ]
  },
  {
   "cell_type": "code",
   "execution_count": 193,
   "id": "d4de1e91",
   "metadata": {},
   "outputs": [
    {
     "data": {
      "text/plain": [
       "0.0    10756\n",
       "1.0     3237\n",
       "Name: occupied, dtype: int64"
      ]
     },
     "execution_count": 193,
     "metadata": {},
     "output_type": "execute_result"
    }
   ],
   "source": [
    "data.occupied.value_counts()"
   ]
  },
  {
   "cell_type": "code",
   "execution_count": 194,
   "id": "3184b33c",
   "metadata": {},
   "outputs": [
    {
     "data": {
      "image/png": "[encoded data removed]",
      "text/plain": [
       "<Figure size 432x288 with 1 Axes>"
      ]
     },
     "metadata": {},
     "output_type": "display_data"
    }
   ],
   "source": [
    "# Count plot on single categorical value\n",
    "\n",
    "plt.figure(figsize=(6,4))\n",
    "graph = sns.countplot(x=\"occupied\",data = data)\n",
    "plt.title(\"Frequency of Occupancy values\")\n",
    "plt.show()"
   ]
  },
  {
   "cell_type": "markdown",
   "id": "8704bbb4",
   "metadata": {},
   "source": [
    "# Train & Test"
   ]
  },
  {
   "cell_type": "code",
   "execution_count": 195,
   "id": "9eed604b",
   "metadata": {},
   "outputs": [],
   "source": [
    "# Our features\n",
    "X = data[[\"temperature\", \"humidity_relative\",\"light\",\"CO2\",\"humidity_absolute\"]]\n",
    "\n",
    "# Our target\n",
    "Y = data[\"occupied\"]\n",
    "\n",
    "# Most correlated features\n",
    "X_corr = data[[\"temperature\", \"light\",\"CO2\"]]\n",
    "\n",
    "# Our test data\n",
    "X_new_data = new_data[[\"temperature\", \"humidity_relative\",\"light\",\"CO2\",\"humidity_absolute\"]]"
   ]
  },
  {
   "cell_type": "code",
   "execution_count": 196,
   "id": "bdbb1ce5",
   "metadata": {},
   "outputs": [],
   "source": [
    "#Import train_test_split function to split data into training ans testing sets\n",
    "\n",
    "from sklearn.model_selection import train_test_split\n",
    "\n",
    "X_train, X_valid, Y_train, Y_valid = train_test_split(X, Y, test_size=0.3, random_state=1, stratify= Y)"
   ]
  },
  {
   "cell_type": "code",
   "execution_count": 197,
   "id": "7fce6892",
   "metadata": {},
   "outputs": [],
   "source": [
    "# Subsets with most correlated features\n",
    "\n",
    "X_train_corr, X_valid_corr, Y_train_corr, Y_valid_corr = train_test_split(X_corr, Y, test_size=0.3, random_state=1, stratify= Y)"
   ]
  },
  {
   "cell_type": "code",
   "execution_count": 198,
   "id": "f3705a84",
   "metadata": {},
   "outputs": [
    {
     "name": "stdout",
     "output_type": "stream",
     "text": [
      "X_train shape : (9795, 5)\n",
      "X_valid shape : (4198, 5)\n",
      "Y_train shape : (9795,)\n",
      "Y_valid shape : (4198,)\n",
      "\n",
      "\n",
      "\n",
      "X_train_corr shape : (9795, 3)\n",
      "X_valid_corr shape : (4198, 3)\n",
      "Y_train_corr shape : (9795,)\n",
      "Y_valid_corr shape : (4198,)\n"
     ]
    }
   ],
   "source": [
    "print(\"X_train shape :\", X_train.shape)\n",
    "print(\"X_valid shape :\", X_valid.shape)\n",
    "print(\"Y_train shape :\", Y_train.shape)\n",
    "print(\"Y_valid shape :\", Y_valid.shape)\n",
    "\n",
    "print(\"\\n\\n\")\n",
    "\n",
    "print(\"X_train_corr shape :\", X_train_corr.shape)\n",
    "print(\"X_valid_corr shape :\", X_valid_corr.shape)\n",
    "print(\"Y_train_corr shape :\", Y_train_corr.shape)\n",
    "print(\"Y_valid_corr shape :\", Y_valid_corr.shape)"
   ]
  },
  {
   "cell_type": "markdown",
   "id": "bc55dc50",
   "metadata": {},
   "source": [
    "## The Logistic Regression model"
   ]
  },
  {
   "cell_type": "code",
   "execution_count": 199,
   "id": "433f55e0",
   "metadata": {},
   "outputs": [],
   "source": [
    "#Import Logistic Regression model\n",
    "\n",
    "from sklearn.linear_model import LogisticRegression"
   ]
  },
  {
   "cell_type": "code",
   "execution_count": 200,
   "id": "dff75dbc",
   "metadata": {},
   "outputs": [],
   "source": [
    "# Instance of Logistic Regression model\n",
    "\n",
    "logmodel_common = LogisticRegression()\n",
    "logmodel_corr = LogisticRegression()"
   ]
  },
  {
   "cell_type": "code",
   "execution_count": 201,
   "id": "5d8595b2",
   "metadata": {},
   "outputs": [
    {
     "data": {
      "text/plain": [
       "LogisticRegression()"
      ]
     },
     "execution_count": 201,
     "metadata": {},
     "output_type": "execute_result"
    }
   ],
   "source": [
    "# Train the model\n",
    "\n",
    "logmodel_common.fit(X_train, Y_train)\n",
    "logmodel_corr.fit(X_train_corr, Y_train_corr)"
   ]
  },
  {
   "cell_type": "code",
   "execution_count": 202,
   "id": "0184861f",
   "metadata": {},
   "outputs": [],
   "source": [
    "#Predicting validation values\n",
    "\n",
    "predictions_common = logmodel_common.predict(X_valid)\n",
    "predictions_corr = logmodel_corr.predict(X_valid_corr)"
   ]
  },
  {
   "cell_type": "code",
   "execution_count": 203,
   "id": "ff817ec6",
   "metadata": {},
   "outputs": [
    {
     "name": "stdout",
     "output_type": "stream",
     "text": [
      "\n",
      " ----- Classification Report ----- \n",
      "\n"
     ]
    },
    {
     "data": {
      "text/plain": [
       "'              precision    recall  f1-score   support\\n\\n         0.0       0.91      0.95      0.93      3227\\n         1.0       0.81      0.71      0.75       971\\n\\n    accuracy                           0.89      4198\\n   macro avg       0.86      0.83      0.84      4198\\nweighted avg       0.89      0.89      0.89      4198\\n'"
      ]
     },
     "execution_count": 203,
     "metadata": {},
     "output_type": "execute_result"
    }
   ],
   "source": [
    "# Different metrics for testing model performance\n",
    "\n",
    "# Classification Report\n",
    "\n",
    "from sklearn.metrics import classification_report\n",
    "\n",
    "print(\"\\n ----- Classification Report ----- \\n\")\n",
    "classification_report(Y_valid, predictions_common)"
   ]
  },
  {
   "cell_type": "code",
   "execution_count": 204,
   "id": "643f6926",
   "metadata": {},
   "outputs": [
    {
     "name": "stdout",
     "output_type": "stream",
     "text": [
      "\n",
      " ----- CONFUSION MATRIX ----- \n",
      "\n"
     ]
    },
    {
     "data": {
      "text/plain": [
       "array([[3063,  164],\n",
       "       [ 285,  686]], dtype=int64)"
      ]
     },
     "execution_count": 204,
     "metadata": {},
     "output_type": "execute_result"
    }
   ],
   "source": [
    "# Confusion Matrix\n",
    "\n",
    "from sklearn.metrics import confusion_matrix\n",
    "\n",
    "print(\"\\n ----- CONFUSION MATRIX ----- \\n\")\n",
    "confusion_matrix(Y_valid, predictions_common)"
   ]
  },
  {
   "cell_type": "code",
   "execution_count": 205,
   "id": "75e1f985",
   "metadata": {},
   "outputs": [
    {
     "name": "stdout",
     "output_type": "stream",
     "text": [
      "\n",
      " ----- ACCURACY SCORE ----- \n",
      "\n",
      "Accuracy Test with all features: 89.3 %\n",
      "\n",
      "\n",
      "Accuracy Test with most correlated features: 86.49 %\n"
     ]
    }
   ],
   "source": [
    "# Accuracy Score\n",
    "\n",
    "from sklearn.metrics import accuracy_score\n",
    "\n",
    "print(\"\\n ----- ACCURACY SCORE ----- \\n\")\n",
    "print(\"Accuracy Test with all features: {} %\".format(round(accuracy_score(Y_valid, predictions_common)*100, 2)))\n",
    "print(\"\\n\")\n",
    "print(\"Accuracy Test with most correlated features: {} %\".format(round(accuracy_score(Y_valid_corr, predictions_corr)*100, 2)))"
   ]
  },
  {
   "cell_type": "markdown",
   "id": "6d6c10f6",
   "metadata": {},
   "source": [
    "## The K Nearest Neighbors model"
   ]
  },
  {
   "cell_type": "code",
   "execution_count": 206,
   "id": "bcd49547",
   "metadata": {},
   "outputs": [],
   "source": [
    "# Import K Nearest Neighbors model\n",
    "\n",
    "from sklearn.neighbors import KNeighborsClassifier"
   ]
  },
  {
   "cell_type": "code",
   "execution_count": 207,
   "id": "1d662d0d",
   "metadata": {},
   "outputs": [
    {
     "name": "stdout",
     "output_type": "stream",
     "text": [
      "\n",
      " ----- ALL FEATURES ----- \n",
      "\n",
      "For the model with K=1 the accuracy is: 88.2 %\n",
      "For the model with K=2 the accuracy is: 88.4 %\n",
      "For the model with K=3 the accuracy is: 89.9 %\n",
      "For the model with K=4 the accuracy is: 90.0 %\n",
      "For the model with K=5 the accuracy is: 90.4 %\n",
      "For the model with K=6 the accuracy is: 90.1 %\n",
      "For the model with K=7 the accuracy is: 90.5 %\n",
      "For the model with K=8 the accuracy is: 90.2 %\n",
      "For the model with K=9 the accuracy is: 90.6 %\n",
      "For the model with K=10 the accuracy is: 90.8 %\n",
      "For the model with K=11 the accuracy is: 90.9 %\n",
      "For the model with K=12 the accuracy is: 90.8 %\n",
      "For the model with K=13 the accuracy is: 91.1 %\n",
      "For the model with K=14 the accuracy is: 90.9 %\n",
      "\n",
      "\n",
      "\n",
      " ----- MOST CORRELATED FEATURES ----- \n",
      "\n",
      "For the model with K=1 the accuracy is: 87.7 %\n",
      "For the model with K=2 the accuracy is: 87.8 %\n",
      "For the model with K=3 the accuracy is: 89.4 %\n",
      "For the model with K=4 the accuracy is: 90.1 %\n",
      "For the model with K=5 the accuracy is: 90.2 %\n",
      "For the model with K=6 the accuracy is: 90.4 %\n",
      "For the model with K=7 the accuracy is: 90.4 %\n",
      "For the model with K=8 the accuracy is: 90.2 %\n",
      "For the model with K=9 the accuracy is: 90.6 %\n",
      "For the model with K=10 the accuracy is: 90.7 %\n",
      "For the model with K=11 the accuracy is: 90.7 %\n",
      "For the model with K=12 the accuracy is: 90.8 %\n",
      "For the model with K=13 the accuracy is: 90.9 %\n",
      "For the model with K=14 the accuracy is: 90.9 %\n"
     ]
    }
   ],
   "source": [
    "# Check K values from 1 to 15 identifying each model accuracy\n",
    "# All features with K=13 is the best we have found so far (accuracy = 91.1%)\n",
    "\n",
    "print(\"\\n ----- ALL FEATURES ----- \\n\")\n",
    "for k in range(1, 15):\n",
    "    model = KNeighborsClassifier(k)\n",
    "    model.fit(X_train, Y_train)\n",
    "    predictions_common = model.predict(X_valid)\n",
    "    accuracy = accuracy_score(Y_valid, predictions_common)\n",
    "    print(\"For the model with K={} the accuracy is: {:.1f} %\".format(k, accuracy*100))\n",
    "\n",
    "print(\"\\n\")\n",
    "\n",
    "print(\"\\n ----- MOST CORRELATED FEATURES ----- \\n\")\n",
    "for k in range(1, 15):\n",
    "    model = KNeighborsClassifier(k)\n",
    "    model.fit(X_train_corr, Y_train_corr)\n",
    "    predictions_corr = model.predict(X_valid_corr)\n",
    "    accuracy = accuracy_score(Y_valid_corr, predictions_corr)\n",
    "    print(\"For the model with K={} the accuracy is: {:.1f} %\".format(k, accuracy*100))"
   ]
  },
  {
   "cell_type": "markdown",
   "id": "c34864fa",
   "metadata": {},
   "source": [
    "## The Decision Tree model"
   ]
  },
  {
   "cell_type": "code",
   "execution_count": 208,
   "id": "02fe0dbc",
   "metadata": {},
   "outputs": [],
   "source": [
    "# Import Decision Tree model\n",
    "\n",
    "from sklearn.tree import DecisionTreeClassifier"
   ]
  },
  {
   "cell_type": "code",
   "execution_count": 209,
   "id": "540501bf",
   "metadata": {},
   "outputs": [],
   "source": [
    "# Instance of Decision Tree model\n",
    "\n",
    "DecTree_common = DecisionTreeClassifier()\n",
    "DecTree_corr = DecisionTreeClassifier()"
   ]
  },
  {
   "cell_type": "code",
   "execution_count": 210,
   "id": "65c41e80",
   "metadata": {},
   "outputs": [
    {
     "data": {
      "text/plain": [
       "DecisionTreeClassifier()"
      ]
     },
     "execution_count": 210,
     "metadata": {},
     "output_type": "execute_result"
    }
   ],
   "source": [
    "# Train the model\n",
    "\n",
    "DecTree_common.fit(X_train, Y_train)\n",
    "DecTree_corr.fit(X_train_corr, Y_train_corr)"
   ]
  },
  {
   "cell_type": "code",
   "execution_count": 211,
   "id": "c94d1bc2",
   "metadata": {},
   "outputs": [],
   "source": [
    "# Predicting validation values\n",
    "\n",
    "predictions_common = DecTree_common.predict(X_valid)\n",
    "predictions_corr = DecTree_corr.predict(X_valid_corr)"
   ]
  },
  {
   "cell_type": "code",
   "execution_count": 212,
   "id": "f6dc356a",
   "metadata": {},
   "outputs": [
    {
     "name": "stdout",
     "output_type": "stream",
     "text": [
      "\n",
      " ----- ALL FEATURES ----- \n",
      "\n",
      "Accuracy Test with all features: 91.5 %\n",
      "\n",
      " ----- MOST CORRELATED FEATURES ----- \n",
      "\n",
      "Accuracy Test with most correlated features: 89.47 %\n"
     ]
    }
   ],
   "source": [
    "# Accuracy Score\n",
    "\n",
    "print(\"\\n ----- ALL FEATURES ----- \\n\")\n",
    "print(\"Accuracy Test with all features: {} %\".format(round(accuracy_score(Y_valid, predictions_common)*100, 2)))\n",
    "\n",
    "\n",
    "print(\"\\n ----- MOST CORRELATED FEATURES ----- \\n\")\n",
    "print(\"Accuracy Test with most correlated features: {} %\".format(round(accuracy_score(Y_valid_corr, predictions_corr)*100, 2)))"
   ]
  },
  {
   "cell_type": "code",
   "execution_count": 213,
   "id": "daa1e7c3",
   "metadata": {},
   "outputs": [],
   "source": [
    "# Finding best criterion\n",
    "\n",
    "from sklearn.model_selection import GridSearchCV\n",
    "\n",
    "parameters = {'criterion':('gini', 'entropy'), 'max_depth': [1, 2, 3, 4, 7, 9, 10]}\n",
    "model = DecisionTreeClassifier()\n",
    "\n",
    "search_model = GridSearchCV(model, param_grid = parameters, cv=5)"
   ]
  },
  {
   "cell_type": "code",
   "execution_count": 214,
   "id": "8523f34e",
   "metadata": {},
   "outputs": [
    {
     "data": {
      "text/plain": [
       "GridSearchCV(cv=5, estimator=DecisionTreeClassifier(),\n",
       "             param_grid={'criterion': ('gini', 'entropy'),\n",
       "                         'max_depth': [1, 2, 3, 4, 7, 9, 10]})"
      ]
     },
     "execution_count": 214,
     "metadata": {},
     "output_type": "execute_result"
    }
   ],
   "source": [
    "# Search for best parameters\n",
    "\n",
    "search_model.fit(X_train, Y_train)"
   ]
  },
  {
   "cell_type": "code",
   "execution_count": 215,
   "id": "7899d619",
   "metadata": {},
   "outputs": [],
   "source": [
    "# Best parameters for our decision tree model\n",
    "\n",
    "search_model.best_params_\n",
    "\n",
    "best_model = search_model.best_estimator_"
   ]
  },
  {
   "cell_type": "code",
   "execution_count": 216,
   "id": "7fbcd5d9",
   "metadata": {},
   "outputs": [],
   "source": [
    "# Predicting validation values\n",
    "\n",
    "predictions = best_model.predict(X_valid)"
   ]
  },
  {
   "cell_type": "code",
   "execution_count": 217,
   "id": "6ea0f020",
   "metadata": {},
   "outputs": [
    {
     "name": "stdout",
     "output_type": "stream",
     "text": [
      "Accuracy Test: 92.59 %\n"
     ]
    }
   ],
   "source": [
    "print(\"Accuracy Test: {} %\".format(round(accuracy_score(Y_valid, predictions)*100, 2)))"
   ]
  },
  {
   "cell_type": "markdown",
   "id": "4fa19ab5",
   "metadata": {},
   "source": [
    "# Predict occupation value based on new data"
   ]
  },
  {
   "cell_type": "markdown",
   "id": "550d3d94",
   "metadata": {},
   "source": [
    "### The Decision Tree model is the best according to the accuracy test ( > 92.4 %)"
   ]
  },
  {
   "cell_type": "code",
   "execution_count": 218,
   "id": "30edd90b",
   "metadata": {},
   "outputs": [],
   "source": [
    "# Predicting occupation value\n",
    "\n",
    "new_data_predictions = best_model.predict(X_new_data)"
   ]
  },
  {
   "cell_type": "code",
   "execution_count": 219,
   "id": "6ea91957",
   "metadata": {},
   "outputs": [],
   "source": [
    "# Create new column with occupation value in the \"dataset_naoclassificado.csv\" dataset\n",
    "\n",
    "new_data['ocupado'] = new_data_predictions"
   ]
  },
  {
   "cell_type": "code",
   "execution_count": 235,
   "id": "afeabc5e",
   "metadata": {},
   "outputs": [],
   "source": [
    "# Fit dataset according to the task (id - occupied value)\n",
    "\n",
    "new_data = new_data[['id', 'ocupado']]\n",
    "\n",
    "# Save data into .csv file\n",
    "\n",
    "new_data.to_csv('dataset_naoclassificado.csv', index = False)"
   ]
  },
  {
   "cell_type": "code",
   "execution_count": null,
   "id": "e3371fc8",
   "metadata": {},
   "outputs": [],
   "source": []
  }
 ],
 "metadata": {
  "kernelspec": {
   "display_name": "Python 3",
   "language": "python",
   "name": "python3"
  },
  "language_info": {
   "codemirror_mode": {
    "name": "ipython",
    "version": 3
   },
   "file_extension": ".py",
   "mimetype": "text/x-python",
   "name": "python",
   "nbconvert_exporter": "python",
   "pygments_lexer": "ipython3",
   "version": "3.8.8"
  }
 },
 "nbformat": 4,
 "nbformat_minor": 5
}
